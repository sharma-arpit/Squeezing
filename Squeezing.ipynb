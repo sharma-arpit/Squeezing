{
 "cells": [
  {
   "cell_type": "code",
   "execution_count": 1,
   "id": "02925577-0aa4-4ff6-bfb8-e033667561ac",
   "metadata": {},
   "outputs": [],
   "source": [
    "import matplotlib.pyplot as plt\n",
    "import numpy as np\n",
    "import pandas as pd\n",
    "from scipy.optimize import curve_fit"
   ]
  },
  {
   "cell_type": "code",
   "execution_count": 2,
   "id": "3e86b94a-f81b-465d-858e-b3f3f8064d89",
   "metadata": {},
   "outputs": [],
   "source": [
    "file_path = \"Power.csv\"\n",
    "data = pd.read_csv(file_path, skiprows=15, delimiter=\";\")"
   ]
  },
  {
   "cell_type": "code",
   "execution_count": 3,
   "id": "cac71be1-bcab-4b0a-9544-166bbd9d06dd",
   "metadata": {},
   "outputs": [
    {
     "data": {
      "text/html": [
       "<div>\n",
       "<style scoped>\n",
       "    .dataframe tbody tr th:only-of-type {\n",
       "        vertical-align: middle;\n",
       "    }\n",
       "\n",
       "    .dataframe tbody tr th {\n",
       "        vertical-align: top;\n",
       "    }\n",
       "\n",
       "    .dataframe thead th {\n",
       "        text-align: right;\n",
       "    }\n",
       "</style>\n",
       "<table border=\"1\" class=\"dataframe\">\n",
       "  <thead>\n",
       "    <tr style=\"text-align: right;\">\n",
       "      <th></th>\n",
       "      <th>Min.(W)</th>\n",
       "      <th>Max.(W)</th>\n",
       "      <th>Percentage(%)</th>\n",
       "      <th>Count</th>\n",
       "    </tr>\n",
       "  </thead>\n",
       "  <tbody>\n",
       "    <tr>\n",
       "      <th>0</th>\n",
       "      <td>0,58145</td>\n",
       "      <td>0,58318</td>\n",
       "      <td>10,3</td>\n",
       "      <td>9408.0</td>\n",
       "    </tr>\n",
       "    <tr>\n",
       "      <th>1</th>\n",
       "      <td>0,58318</td>\n",
       "      <td>0,58491</td>\n",
       "      <td>16,2</td>\n",
       "      <td>14837.0</td>\n",
       "    </tr>\n",
       "    <tr>\n",
       "      <th>2</th>\n",
       "      <td>0,58491</td>\n",
       "      <td>0,58664</td>\n",
       "      <td>9,6</td>\n",
       "      <td>8834.0</td>\n",
       "    </tr>\n",
       "    <tr>\n",
       "      <th>3</th>\n",
       "      <td>0,58664</td>\n",
       "      <td>0,58837</td>\n",
       "      <td>10,9</td>\n",
       "      <td>9999.0</td>\n",
       "    </tr>\n",
       "    <tr>\n",
       "      <th>4</th>\n",
       "      <td>0,58837</td>\n",
       "      <td>0,5901</td>\n",
       "      <td>13,6</td>\n",
       "      <td>12499.0</td>\n",
       "    </tr>\n",
       "    <tr>\n",
       "      <th>5</th>\n",
       "      <td>0,5901</td>\n",
       "      <td>0,59183</td>\n",
       "      <td>14,0</td>\n",
       "      <td>12838.0</td>\n",
       "    </tr>\n",
       "    <tr>\n",
       "      <th>6</th>\n",
       "      <td>0,59183</td>\n",
       "      <td>0,59356</td>\n",
       "      <td>12,7</td>\n",
       "      <td>11615.0</td>\n",
       "    </tr>\n",
       "    <tr>\n",
       "      <th>7</th>\n",
       "      <td>0,59356</td>\n",
       "      <td>0,59529</td>\n",
       "      <td>2,3</td>\n",
       "      <td>2072.0</td>\n",
       "    </tr>\n",
       "    <tr>\n",
       "      <th>8</th>\n",
       "      <td>0,59529</td>\n",
       "      <td>0,59702</td>\n",
       "      <td>4,4</td>\n",
       "      <td>4025.0</td>\n",
       "    </tr>\n",
       "    <tr>\n",
       "      <th>9</th>\n",
       "      <td>0,59702</td>\n",
       "      <td>0,59875</td>\n",
       "      <td>6,2</td>\n",
       "      <td>5649.0</td>\n",
       "    </tr>\n",
       "    <tr>\n",
       "      <th>10</th>\n",
       "      <td>--Statistics--</td>\n",
       "      <td>NaN</td>\n",
       "      <td>NaN</td>\n",
       "      <td>NaN</td>\n",
       "    </tr>\n",
       "    <tr>\n",
       "      <th>11</th>\n",
       "      <td>Minimum [W]</td>\n",
       "      <td>0,58145</td>\n",
       "      <td>NaN</td>\n",
       "      <td>NaN</td>\n",
       "    </tr>\n",
       "    <tr>\n",
       "      <th>12</th>\n",
       "      <td>Maximum [W]</td>\n",
       "      <td>0,59875</td>\n",
       "      <td>NaN</td>\n",
       "      <td>NaN</td>\n",
       "    </tr>\n",
       "    <tr>\n",
       "      <th>13</th>\n",
       "      <td>Mean [W]</td>\n",
       "      <td>0,58882</td>\n",
       "      <td>NaN</td>\n",
       "      <td>NaN</td>\n",
       "    </tr>\n",
       "    <tr>\n",
       "      <th>14</th>\n",
       "      <td>Standard Deviation [W]</td>\n",
       "      <td>0,0044005</td>\n",
       "      <td>NaN</td>\n",
       "      <td>NaN</td>\n",
       "    </tr>\n",
       "    <tr>\n",
       "      <th>15</th>\n",
       "      <td>Ratio</td>\n",
       "      <td>1,030 : 1</td>\n",
       "      <td>NaN</td>\n",
       "      <td>NaN</td>\n",
       "    </tr>\n",
       "  </tbody>\n",
       "</table>\n",
       "</div>"
      ],
      "text/plain": [
       "                   Min.(W)    Max.(W) Percentage(%)    Count\n",
       "0                  0,58145    0,58318          10,3   9408.0\n",
       "1                  0,58318    0,58491          16,2  14837.0\n",
       "2                  0,58491    0,58664           9,6   8834.0\n",
       "3                  0,58664    0,58837          10,9   9999.0\n",
       "4                  0,58837     0,5901          13,6  12499.0\n",
       "5                   0,5901    0,59183          14,0  12838.0\n",
       "6                  0,59183    0,59356          12,7  11615.0\n",
       "7                  0,59356    0,59529           2,3   2072.0\n",
       "8                  0,59529    0,59702           4,4   4025.0\n",
       "9                  0,59702    0,59875           6,2   5649.0\n",
       "10          --Statistics--        NaN           NaN      NaN\n",
       "11             Minimum [W]    0,58145           NaN      NaN\n",
       "12             Maximum [W]    0,59875           NaN      NaN\n",
       "13                Mean [W]    0,58882           NaN      NaN\n",
       "14  Standard Deviation [W]  0,0044005           NaN      NaN\n",
       "15                   Ratio  1,030 : 1           NaN      NaN"
      ]
     },
     "execution_count": 3,
     "metadata": {},
     "output_type": "execute_result"
    }
   ],
   "source": [
    "data"
   ]
  },
  {
   "cell_type": "code",
   "execution_count": 4,
   "id": "69fe57eb-9f05-4036-ad0d-96be1c53392a",
   "metadata": {},
   "outputs": [],
   "source": [
    "power_file = \"squeezing_temp.csv\"\n",
    "power_data = pd.read_csv(power_file, delimiter=\",\")"
   ]
  },
  {
   "cell_type": "code",
   "execution_count": 5,
   "id": "401c4c2c-0365-4fcb-bddb-c39b50a4e694",
   "metadata": {},
   "outputs": [],
   "source": [
    "def sinc_fun(T, A, b, T0):\n",
    "    return A*(np.sinc(b*(T-T0)))**2"
   ]
  },
  {
   "cell_type": "code",
   "execution_count": 6,
   "id": "7d49ce90-a3b3-4eaa-982a-8f00606a262e",
   "metadata": {},
   "outputs": [],
   "source": [
    "init = [1, 1, 40]\n",
    "params, p_conv = curve_fit(sinc_fun, power_data['Temperature'], power_data['Power'], p0=init)"
   ]
  },
  {
   "cell_type": "code",
   "execution_count": 7,
   "id": "e48ec74e-502b-40c7-96be-f14f11886d2f",
   "metadata": {},
   "outputs": [
    {
     "data": {
      "text/plain": [
       "array([1.89650217e-02, 2.80309047e-01, 4.07968839e+01])"
      ]
     },
     "execution_count": 7,
     "metadata": {},
     "output_type": "execute_result"
    }
   ],
   "source": [
    "params"
   ]
  },
  {
   "cell_type": "code",
   "execution_count": 8,
   "id": "04423cb4-7d55-421a-87d9-ff7a47abdd56",
   "metadata": {},
   "outputs": [
    {
     "data": {
      "image/png": "[encoded data removed]",
      "text/plain": [
       "<Figure size 640x480 with 1 Axes>"
      ]
     },
     "metadata": {},
     "output_type": "display_data"
    }
   ],
   "source": [
    "T = np.arange(power_data[\"Temperature\"].min(), power_data[\"Temperature\"].max(), 0.1)\n",
    "plt.plot(power_data[\"Temperature\"], power_data[\"Power\"]*1000, '.', color ='C0', markersize=5, label='Power')\n",
    "\n",
    "plt.xlabel('Temperature (Celsius)')\n",
    "plt.ylabel('Power (mW)')\n",
    "plt.grid()\n",
    "plt.legend()\n",
    "plt.savefig('power_vs_temp.png', dpi=300)"
   ]
  },
  {
   "cell_type": "code",
   "execution_count": 9,
   "id": "b0b06104-6485-4bd6-89f0-34fb7b2188b7",
   "metadata": {},
   "outputs": [
    {
     "data": {
      "image/png": "[encoded data removed]",
      "text/plain": [
       "<Figure size 640x480 with 1 Axes>"
      ]
     },
     "metadata": {},
     "output_type": "display_data"
    }
   ],
   "source": [
    "plt.plot(power_data[\"Temperature\"], power_data[\"Power\"]*1000, '.', color ='C0', markersize=5, label='Power')\n",
    "plt.plot(T, sinc_fun(T, *params)*1000, color ='C1', markersize=5, label='Power fit')\n",
    "plt.axvline(x=params[2], color='blue', linestyle='--', label=f'$T = {params[2]:.2f} C$')\n",
    "\n",
    "plt.xlabel('Temperature (Celsius)')\n",
    "plt.ylabel('Power (mW)')\n",
    "plt.grid()\n",
    "plt.legend()\n",
    "plt.savefig('power_fit.png', dpi=300)"
   ]
  },
  {
   "cell_type": "code",
   "execution_count": 10,
   "id": "c534ea72-e9d9-437b-bd05-359d0407b60d",
   "metadata": {},
   "outputs": [
    {
     "data": {
      "text/html": [
       "<div>\n",
       "<style scoped>\n",
       "    .dataframe tbody tr th:only-of-type {\n",
       "        vertical-align: middle;\n",
       "    }\n",
       "\n",
       "    .dataframe tbody tr th {\n",
       "        vertical-align: top;\n",
       "    }\n",
       "\n",
       "    .dataframe thead th {\n",
       "        text-align: right;\n",
       "    }\n",
       "</style>\n",
       "<table border=\"1\" class=\"dataframe\">\n",
       "  <thead>\n",
       "    <tr style=\"text-align: right;\">\n",
       "      <th></th>\n",
       "      <th>Temperature</th>\n",
       "      <th>Power</th>\n",
       "      <th>std</th>\n",
       "    </tr>\n",
       "  </thead>\n",
       "  <tbody>\n",
       "    <tr>\n",
       "      <th>0</th>\n",
       "      <td>26.0</td>\n",
       "      <td>0.000040</td>\n",
       "      <td>5.300000e-08</td>\n",
       "    </tr>\n",
       "    <tr>\n",
       "      <th>1</th>\n",
       "      <td>27.0</td>\n",
       "      <td>0.000032</td>\n",
       "      <td>2.180000e-07</td>\n",
       "    </tr>\n",
       "    <tr>\n",
       "      <th>2</th>\n",
       "      <td>29.0</td>\n",
       "      <td>0.000057</td>\n",
       "      <td>5.770000e-07</td>\n",
       "    </tr>\n",
       "    <tr>\n",
       "      <th>3</th>\n",
       "      <td>31.0</td>\n",
       "      <td>0.000086</td>\n",
       "      <td>9.330000e-07</td>\n",
       "    </tr>\n",
       "    <tr>\n",
       "      <th>4</th>\n",
       "      <td>33.0</td>\n",
       "      <td>0.000373</td>\n",
       "      <td>1.229600e-05</td>\n",
       "    </tr>\n",
       "    <tr>\n",
       "      <th>5</th>\n",
       "      <td>35.0</td>\n",
       "      <td>0.000790</td>\n",
       "      <td>2.558100e-05</td>\n",
       "    </tr>\n",
       "    <tr>\n",
       "      <th>6</th>\n",
       "      <td>37.0</td>\n",
       "      <td>0.001343</td>\n",
       "      <td>9.200000e-05</td>\n",
       "    </tr>\n",
       "    <tr>\n",
       "      <th>7</th>\n",
       "      <td>39.0</td>\n",
       "      <td>0.007946</td>\n",
       "      <td>3.000000e-05</td>\n",
       "    </tr>\n",
       "    <tr>\n",
       "      <th>8</th>\n",
       "      <td>40.0</td>\n",
       "      <td>0.015474</td>\n",
       "      <td>5.000000e-05</td>\n",
       "    </tr>\n",
       "    <tr>\n",
       "      <th>9</th>\n",
       "      <td>40.5</td>\n",
       "      <td>0.018915</td>\n",
       "      <td>1.300000e-05</td>\n",
       "    </tr>\n",
       "    <tr>\n",
       "      <th>10</th>\n",
       "      <td>40.7</td>\n",
       "      <td>0.019188</td>\n",
       "      <td>1.400000e-05</td>\n",
       "    </tr>\n",
       "    <tr>\n",
       "      <th>11</th>\n",
       "      <td>40.8</td>\n",
       "      <td>0.018893</td>\n",
       "      <td>2.700000e-05</td>\n",
       "    </tr>\n",
       "    <tr>\n",
       "      <th>12</th>\n",
       "      <td>41.0</td>\n",
       "      <td>0.018365</td>\n",
       "      <td>1.510000e-04</td>\n",
       "    </tr>\n",
       "    <tr>\n",
       "      <th>13</th>\n",
       "      <td>42.0</td>\n",
       "      <td>0.013144</td>\n",
       "      <td>1.700000e-05</td>\n",
       "    </tr>\n",
       "    <tr>\n",
       "      <th>14</th>\n",
       "      <td>43.0</td>\n",
       "      <td>0.004136</td>\n",
       "      <td>1.760000e-04</td>\n",
       "    </tr>\n",
       "    <tr>\n",
       "      <th>15</th>\n",
       "      <td>45.0</td>\n",
       "      <td>0.000873</td>\n",
       "      <td>8.630000e-06</td>\n",
       "    </tr>\n",
       "    <tr>\n",
       "      <th>16</th>\n",
       "      <td>47.0</td>\n",
       "      <td>0.000667</td>\n",
       "      <td>1.059900e-05</td>\n",
       "    </tr>\n",
       "    <tr>\n",
       "      <th>17</th>\n",
       "      <td>49.0</td>\n",
       "      <td>0.000032</td>\n",
       "      <td>1.527000e-06</td>\n",
       "    </tr>\n",
       "    <tr>\n",
       "      <th>18</th>\n",
       "      <td>51.0</td>\n",
       "      <td>0.000360</td>\n",
       "      <td>3.611000e-06</td>\n",
       "    </tr>\n",
       "    <tr>\n",
       "      <th>19</th>\n",
       "      <td>53.0</td>\n",
       "      <td>0.000034</td>\n",
       "      <td>2.958000e-06</td>\n",
       "    </tr>\n",
       "  </tbody>\n",
       "</table>\n",
       "</div>"
      ],
      "text/plain": [
       "    Temperature     Power           std\n",
       "0          26.0  0.000040  5.300000e-08\n",
       "1          27.0  0.000032  2.180000e-07\n",
       "2          29.0  0.000057  5.770000e-07\n",
       "3          31.0  0.000086  9.330000e-07\n",
       "4          33.0  0.000373  1.229600e-05\n",
       "5          35.0  0.000790  2.558100e-05\n",
       "6          37.0  0.001343  9.200000e-05\n",
       "7          39.0  0.007946  3.000000e-05\n",
       "8          40.0  0.015474  5.000000e-05\n",
       "9          40.5  0.018915  1.300000e-05\n",
       "10         40.7  0.019188  1.400000e-05\n",
       "11         40.8  0.018893  2.700000e-05\n",
       "12         41.0  0.018365  1.510000e-04\n",
       "13         42.0  0.013144  1.700000e-05\n",
       "14         43.0  0.004136  1.760000e-04\n",
       "15         45.0  0.000873  8.630000e-06\n",
       "16         47.0  0.000667  1.059900e-05\n",
       "17         49.0  0.000032  1.527000e-06\n",
       "18         51.0  0.000360  3.611000e-06\n",
       "19         53.0  0.000034  2.958000e-06"
      ]
     },
     "execution_count": 10,
     "metadata": {},
     "output_type": "execute_result"
    }
   ],
   "source": [
    "power_data"
   ]
  },
  {
   "cell_type": "code",
   "execution_count": 11,
   "id": "ff720ced-ca0d-4d0b-ae0f-5816b9eb9cb2",
   "metadata": {},
   "outputs": [
    {
     "name": "stdout",
     "output_type": "stream",
     "text": [
      "0.9226123317745109 1.1097775248910087\n"
     ]
    }
   ],
   "source": [
    "shot_noise = -97.18\n",
    "dark_noise = -98.39\n",
    "\n",
    "delta_noise = shot_noise - dark_noise\n",
    "\n",
    "max_power = 0.08\n",
    "alpha = 0.764\n",
    "PSHG = 0.5 * max_power\n",
    "\n",
    "eta = 0.6 * 0.9 * 0.77 * 0.83 * 0.95 * 0.8\n",
    "\n",
    "R = np.sqrt(alpha * PSHG)\n",
    "Vplus = np.exp(2*R) * eta + 1 - eta\n",
    "Vminus = np.exp(-2*R) * eta + 1 - eta\n",
    "print(Vminus, Vplus)"
   ]
  },
  {
   "cell_type": "code",
   "execution_count": 20,
   "id": "b5c66d1a-a24a-4bf8-98bb-1e27180161fd",
   "metadata": {},
   "outputs": [
    {
     "data": {
      "text/plain": [
       "(np.float64(0.704950018706675), np.float64(1.418540284366023))"
      ]
     },
     "execution_count": 20,
     "metadata": {},
     "output_type": "execute_result"
    }
   ],
   "source": [
    " np.exp(-2*R), np.exp(2*R),"
   ]
  },
  {
   "cell_type": "code",
   "execution_count": 22,
   "id": "87a34521-502e-44ed-9af2-d279ff6aa4f8",
   "metadata": {},
   "outputs": [
    {
     "data": {
      "text/plain": [
       "(0.04, np.float64(0.17481418706729726), 0.26228664)"
      ]
     },
     "execution_count": 22,
     "metadata": {},
     "output_type": "execute_result"
    }
   ],
   "source": [
    "PSHG, R, eta"
   ]
  },
  {
   "cell_type": "code",
   "execution_count": 13,
   "id": "e823cc7f-2fad-4d68-9ecd-0ccc0629d8d6",
   "metadata": {},
   "outputs": [
    {
     "data": {
      "text/plain": [
       "1.2099999999999937"
      ]
     },
     "execution_count": 13,
     "metadata": {},
     "output_type": "execute_result"
    }
   ],
   "source": [
    "delta_noise # explain the separation between shot and dark noise"
   ]
  },
  {
   "cell_type": "code",
   "execution_count": 14,
   "id": "551995e6-c917-4306-8855-82cef3b08554",
   "metadata": {},
   "outputs": [],
   "source": [
    "anti = [-96.93, -97.00, -96.97, -96.95, -96.9, -96.95]\n",
    "squ = [-97.44, -97.39, -97.41, -97.44, -97.44, -97.46]\n",
    "shot = -97.23\n",
    "\n",
    "anti_squeezing = []\n",
    "squeezing = []\n",
    "\n",
    "for i in range(len(anti)):\n",
    "    anti_squeezing.append(abs(anti[i] - shot))\n",
    "    squeezing.append(abs(squ[i] - shot))"
   ]
  },
  {
   "cell_type": "code",
   "execution_count": 15,
   "id": "08cc798f-fddf-4299-b51d-dea892c79d70",
   "metadata": {},
   "outputs": [
    {
     "data": {
      "text/plain": [
       "[0.29999999999999716,\n",
       " 0.23000000000000398,\n",
       " 0.2600000000000051,\n",
       " 0.28000000000000114,\n",
       " 0.3299999999999983,\n",
       " 0.28000000000000114]"
      ]
     },
     "execution_count": 15,
     "metadata": {},
     "output_type": "execute_result"
    }
   ],
   "source": [
    "anti_squeezing"
   ]
  },
  {
   "cell_type": "code",
   "execution_count": 16,
   "id": "55432d29-5a39-4507-be84-bd94bdde5f2c",
   "metadata": {},
   "outputs": [
    {
     "data": {
      "text/plain": [
       "[0.20999999999999375,\n",
       " 0.1599999999999966,\n",
       " 0.1799999999999926,\n",
       " 0.20999999999999375,\n",
       " 0.20999999999999375,\n",
       " 0.22999999999998977]"
      ]
     },
     "execution_count": 16,
     "metadata": {},
     "output_type": "execute_result"
    }
   ],
   "source": [
    "squeezing"
   ]
  },
  {
   "cell_type": "code",
   "execution_count": 17,
   "id": "f4538e88-866a-4296-96b5-ca4c6d83f43e",
   "metadata": {},
   "outputs": [
    {
     "name": "stdout",
     "output_type": "stream",
     "text": [
      "Anti-Squeezing: 1.0665961212302582\n"
     ]
    }
   ],
   "source": [
    "# Convert dB to unitless\n",
    "unitless_values = 10 ** (np.mean(np.array(anti_squeezing)) / 10)\n",
    "print(\"Anti-Squeezing:\", unitless_values)"
   ]
  },
  {
   "cell_type": "code",
   "execution_count": 18,
   "id": "2b1fa040-cd9d-4bdd-811a-8bb768296905",
   "metadata": {},
   "outputs": [
    {
     "name": "stdout",
     "output_type": "stream",
     "text": [
      "Squeezing: 0.9549925860214374\n"
     ]
    }
   ],
   "source": [
    "# Convert -dB to unitless\n",
    "negative_unitless_values = 10 ** (-np.mean(np.array(squeezing)) / 10)\n",
    "print(\"Squeezing:\", negative_unitless_values)"
   ]
  },
  {
   "cell_type": "code",
   "execution_count": 21,
   "id": "e9e127d5-6476-4821-aa14-03a84a791dfb",
   "metadata": {},
   "outputs": [
    {
     "data": {
      "text/plain": [
       "(np.float64(0.28000000000000114), np.float64(0.19999999999999338))"
      ]
     },
     "execution_count": 21,
     "metadata": {},
     "output_type": "execute_result"
    }
   ],
   "source": [
    "np.mean(np.array(anti_squeezing)), np.mean(np.array(squeezing))"
   ]
  },
  {
   "cell_type": "code",
   "execution_count": null,
   "id": "dabd99a7-9dd5-4f20-894e-dc5462964382",
   "metadata": {},
   "outputs": [],
   "source": []
  }
 ],
 "metadata": {
  "kernelspec": {
   "display_name": "Python 3 (ipykernel)",
   "language": "python",
   "name": "python3"
  },
  "language_info": {
   "codemirror_mode": {
    "name": "ipython",
    "version": 3
   },
   "file_extension": ".py",
   "mimetype": "text/x-python",
   "name": "python",
   "nbconvert_exporter": "python",
   "pygments_lexer": "ipython3",
   "version": "3.11.9"
  },
  "widgets": {
   "application/vnd.jupyter.widget-state+json": {
    "state": {},
    "version_major": 2,
    "version_minor": 0
   }
  }
 },
 "nbformat": 4,
 "nbformat_minor": 5
}
